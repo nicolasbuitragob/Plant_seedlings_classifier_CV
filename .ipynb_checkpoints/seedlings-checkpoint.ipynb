{
 "cells": [
  {
   "cell_type": "code",
   "execution_count": 1,
   "id": "black-chassis",
   "metadata": {},
   "outputs": [],
   "source": [
    "import numpy as np\n",
    "import os\n",
    "import zipfile\n",
    "import tensorflow as tf\n",
    "from tensorflow.keras.layers import Dense, Flatten, Conv2D, MaxPooling2D\n",
    "from tensorflow.keras.models import Sequential\n",
    "import matplotlib.pyplot as plt\n",
    "import pandas as pd\n",
    "import seaborn as sns"
   ]
  },
  {
   "cell_type": "markdown",
   "id": "characteristic-hanging",
   "metadata": {},
   "source": [
    "Set up data"
   ]
  },
  {
   "cell_type": "code",
   "execution_count": 2,
   "id": "accomplished-conflict",
   "metadata": {},
   "outputs": [],
   "source": [
    "#Set paths to data folder\n",
    "path_data = os.path.join('../','Data')"
   ]
  },
  {
   "cell_type": "code",
   "execution_count": 3,
   "id": "processed-elevation",
   "metadata": {},
   "outputs": [],
   "source": [
    "#unzip train data\n",
    "def unzip():\n",
    "    with zipfile.ZipFile(os.path.join(path_data,'NonsegmentedV2.zip'),'r') as tr:\n",
    "        tr.extractall(os.path.join(path_data,'train_images'))\n",
    "    with zipfile.ZipFile(os.path.join(path_data,'ImagesFromTheWild.zip'),'r') as te:\n",
    "        te.extractall(os.path.join(path_data,'test_images'))"
   ]
  },
  {
   "cell_type": "code",
   "execution_count": 4,
   "id": "acquired-commodity",
   "metadata": {},
   "outputs": [],
   "source": [
    "#unzip()"
   ]
  },
  {
   "cell_type": "code",
   "execution_count": 5,
   "id": "directed-praise",
   "metadata": {},
   "outputs": [],
   "source": [
    "train_path = os.path.join(path_data,'train_images')\n",
    "test_path = os.path.join(path_data,'test_images')"
   ]
  },
  {
   "cell_type": "code",
   "execution_count": null,
   "id": "secondary-sequence",
   "metadata": {},
   "outputs": [],
   "source": []
  },
  {
   "cell_type": "markdown",
   "id": "homeless-commodity",
   "metadata": {},
   "source": [
    "Now the images are stored in the 'train_images' and 'test_images' directories\n",
    "\n",
    "\n",
    "The images are organized in subfolders per class. Let's organize the images in a single dataframe to do some EDA"
   ]
  },
  {
   "cell_type": "code",
   "execution_count": 6,
   "id": "rapid-while",
   "metadata": {},
   "outputs": [],
   "source": [
    "def images_df(path):\n",
    "    data = []\n",
    "    for folder in os.listdir(path):\n",
    "        folder_path = os.path.join(path,folder)\n",
    "        for image in os.listdir(folder_path):\n",
    "            img_path = os.path.join(folder_path,image)\n",
    "            data.append([image,folder,img_path])\n",
    "    df = pd.DataFrame(data,columns = ['Image','Class','image path'])\n",
    "    return df"
   ]
  },
  {
   "cell_type": "code",
   "execution_count": 22,
   "id": "narrative-cruise",
   "metadata": {},
   "outputs": [],
   "source": [
    "df_train = images_df(train_path)"
   ]
  },
  {
   "cell_type": "code",
   "execution_count": 23,
   "id": "commercial-spectacular",
   "metadata": {},
   "outputs": [],
   "source": [
    "def plot_frequency_class(df,color):\n",
    "    counts = df_train['Class'].value_counts()\n",
    "    plt.figure(figsize=(10,5))\n",
    "    counts.plot.bar(colormap = color)\n",
    "    plt.show()\n",
    "    counts_df = pd.DataFrame(counts)\n",
    "    counts_df['percentage'] = (counts_df['Class'] / counts_df['Class'].sum())*100\n",
    "    return counts_df"
   ]
  },
  {
   "cell_type": "code",
   "execution_count": 9,
   "id": "subsequent-dominant",
   "metadata": {},
   "outputs": [],
   "source": [
    "#plot_frequency_class(df_train,'summer')"
   ]
  },
  {
   "cell_type": "markdown",
   "id": "artistic-highland",
   "metadata": {},
   "source": [
    "Looks like we have a problem with an imbalanced dataset. Keep that in mind.\n",
    "\n",
    "Now let's plot some examples per class"
   ]
  },
  {
   "cell_type": "code",
   "execution_count": 10,
   "id": "technological-rotation",
   "metadata": {},
   "outputs": [],
   "source": [
    "seeds_train = os.listdir(train_path)\n",
    "def plot_examples(path,seeds):\n",
    "    for seed in seeds:\n",
    "        plt.figure(figsize = (40,40))\n",
    "        full_path = os.path.join(path,seed)\n",
    "        for image,i in zip(os.listdir(os.path.join(path,seed)),range(4)): #Loops 4 times in each folder picking 4 images per class\n",
    "            img = plt.imread(os.path.join(full_path,image)) #image converted to array\n",
    "            plt.subplot(12,6,i+1) \n",
    "            plt.axis('off')\n",
    "            plt.title(seed)        \n",
    "            plt.imshow(img)\n"
   ]
  },
  {
   "cell_type": "code",
   "execution_count": 11,
   "id": "inner-shift",
   "metadata": {},
   "outputs": [],
   "source": [
    "#plot_examples(train_path,seeds_train)"
   ]
  },
  {
   "cell_type": "markdown",
   "id": "worse-mistake",
   "metadata": {},
   "source": [
    "Well it looks like we are going to have some problems here. \n",
    "\n",
    "The background could introduce some bias to the algorithm mainly for two reasons: It is the same in almost all the images, the model might extract information from the rocks and not from the plants, specially in classes like 'Loose Silky-bent' and 'Black Grass' that the seedlings are very thin. Second, the dataset is created in a laboratory using a high resolution camera (see [this](https://arxiv.org/pdf/1711.05458.pdf) paper) so if we train a model using this images it might not perform very well in an real environment. Real weeds in a farm will have a very different distribution if a farmer takes a photo using a smartphone. To solve this issues, we will probably need to use segmentation techniques and test the model in images that are not from a laboratory. \n",
    "\n",
    "Thanks to the authors of this paper for the dataset provided [PAPER: A Public Image Database for Benchmark of Plant Seedling Classification Algorithms](https://vision.eng.au.dk/plant-seedlings-dataset/)\n"
   ]
  },
  {
   "cell_type": "markdown",
   "id": "fossil-demographic",
   "metadata": {},
   "source": [
    "Now we have three issues. Imbalanced dataset, the background of the images and the distribution of the data\n",
    "\n",
    "But for now, let's look the test data. The authors proposed a dataset of images taken in a real world environment with no artifical light they called:  'images from the wild'"
   ]
  },
  {
   "cell_type": "code",
   "execution_count": 12,
   "id": "described-designation",
   "metadata": {},
   "outputs": [],
   "source": [
    "seed_test = os.listdir(test_path)"
   ]
  },
  {
   "cell_type": "code",
   "execution_count": 13,
   "id": "humanitarian-survey",
   "metadata": {},
   "outputs": [],
   "source": [
    "#plot_examples(test_path,seed_test)"
   ]
  },
  {
   "cell_type": "code",
   "execution_count": 14,
   "id": "satisfied-accreditation",
   "metadata": {},
   "outputs": [],
   "source": [
    "df_test = images_df(test_path)"
   ]
  },
  {
   "cell_type": "code",
   "execution_count": 19,
   "id": "another-plymouth",
   "metadata": {},
   "outputs": [
    {
     "data": {
      "text/html": [
       "<div>\n",
       "<style scoped>\n",
       "    .dataframe tbody tr th:only-of-type {\n",
       "        vertical-align: middle;\n",
       "    }\n",
       "\n",
       "    .dataframe tbody tr th {\n",
       "        vertical-align: top;\n",
       "    }\n",
       "\n",
       "    .dataframe thead th {\n",
       "        text-align: right;\n",
       "    }\n",
       "</style>\n",
       "<table border=\"1\" class=\"dataframe\">\n",
       "  <thead>\n",
       "    <tr style=\"text-align: right;\">\n",
       "      <th></th>\n",
       "      <th>Image</th>\n",
       "      <th>Class</th>\n",
       "      <th>image path</th>\n",
       "    </tr>\n",
       "  </thead>\n",
       "  <tbody>\n",
       "    <tr>\n",
       "      <th>0</th>\n",
       "      <td>WP_20150521_15_19_40_Pro__highres_0.tiff</td>\n",
       "      <td>Fat Hen</td>\n",
       "      <td>../Data/test_images/Fat Hen/WP_20150521_15_19_...</td>\n",
       "    </tr>\n",
       "    <tr>\n",
       "      <th>1</th>\n",
       "      <td>WP_20150611_09_37_38_Pro__highres_4.tiff</td>\n",
       "      <td>Fat Hen</td>\n",
       "      <td>../Data/test_images/Fat Hen/WP_20150611_09_37_...</td>\n",
       "    </tr>\n",
       "    <tr>\n",
       "      <th>2</th>\n",
       "      <td>20160524_143721_0.tiff</td>\n",
       "      <td>Fat Hen</td>\n",
       "      <td>../Data/test_images/Fat Hen/20160524_143721_0....</td>\n",
       "    </tr>\n",
       "    <tr>\n",
       "      <th>3</th>\n",
       "      <td>WP_20160517_15_19_13_Pro_2.tiff</td>\n",
       "      <td>Fat Hen</td>\n",
       "      <td>../Data/test_images/Fat Hen/WP_20160517_15_19_...</td>\n",
       "    </tr>\n",
       "    <tr>\n",
       "      <th>4</th>\n",
       "      <td>IMG_1286_13.tiff</td>\n",
       "      <td>Fat Hen</td>\n",
       "      <td>../Data/test_images/Fat Hen/IMG_1286_13.tiff</td>\n",
       "    </tr>\n",
       "    <tr>\n",
       "      <th>...</th>\n",
       "      <td>...</td>\n",
       "      <td>...</td>\n",
       "      <td>...</td>\n",
       "    </tr>\n",
       "    <tr>\n",
       "      <th>91</th>\n",
       "      <td>WP_20150619_10_42_25_Pro__highres_3.tiff</td>\n",
       "      <td>Shepherds Purse</td>\n",
       "      <td>../Data/test_images/Shepherds Purse/WP_2015061...</td>\n",
       "    </tr>\n",
       "    <tr>\n",
       "      <th>92</th>\n",
       "      <td>WP_20150521_13_45_56_Pro__highres_9.tiff</td>\n",
       "      <td>Shepherds Purse</td>\n",
       "      <td>../Data/test_images/Shepherds Purse/WP_2015052...</td>\n",
       "    </tr>\n",
       "    <tr>\n",
       "      <th>93</th>\n",
       "      <td>IMG_1336_0.tiff</td>\n",
       "      <td>Shepherds Purse</td>\n",
       "      <td>../Data/test_images/Shepherds Purse/IMG_1336_0...</td>\n",
       "    </tr>\n",
       "    <tr>\n",
       "      <th>94</th>\n",
       "      <td>WP_20150611_09_35_37_Pro__highres_0.tiff</td>\n",
       "      <td>Shepherds Purse</td>\n",
       "      <td>../Data/test_images/Shepherds Purse/WP_2015061...</td>\n",
       "    </tr>\n",
       "    <tr>\n",
       "      <th>95</th>\n",
       "      <td>IMG_1336_2.tiff</td>\n",
       "      <td>Shepherds Purse</td>\n",
       "      <td>../Data/test_images/Shepherds Purse/IMG_1336_2...</td>\n",
       "    </tr>\n",
       "  </tbody>\n",
       "</table>\n",
       "<p>96 rows × 3 columns</p>\n",
       "</div>"
      ],
      "text/plain": [
       "                                       Image            Class  \\\n",
       "0   WP_20150521_15_19_40_Pro__highres_0.tiff          Fat Hen   \n",
       "1   WP_20150611_09_37_38_Pro__highres_4.tiff          Fat Hen   \n",
       "2                     20160524_143721_0.tiff          Fat Hen   \n",
       "3            WP_20160517_15_19_13_Pro_2.tiff          Fat Hen   \n",
       "4                           IMG_1286_13.tiff          Fat Hen   \n",
       "..                                       ...              ...   \n",
       "91  WP_20150619_10_42_25_Pro__highres_3.tiff  Shepherds Purse   \n",
       "92  WP_20150521_13_45_56_Pro__highres_9.tiff  Shepherds Purse   \n",
       "93                           IMG_1336_0.tiff  Shepherds Purse   \n",
       "94  WP_20150611_09_35_37_Pro__highres_0.tiff  Shepherds Purse   \n",
       "95                           IMG_1336_2.tiff  Shepherds Purse   \n",
       "\n",
       "                                           image path  \n",
       "0   ../Data/test_images/Fat Hen/WP_20150521_15_19_...  \n",
       "1   ../Data/test_images/Fat Hen/WP_20150611_09_37_...  \n",
       "2   ../Data/test_images/Fat Hen/20160524_143721_0....  \n",
       "3   ../Data/test_images/Fat Hen/WP_20160517_15_19_...  \n",
       "4        ../Data/test_images/Fat Hen/IMG_1286_13.tiff  \n",
       "..                                                ...  \n",
       "91  ../Data/test_images/Shepherds Purse/WP_2015061...  \n",
       "92  ../Data/test_images/Shepherds Purse/WP_2015052...  \n",
       "93  ../Data/test_images/Shepherds Purse/IMG_1336_0...  \n",
       "94  ../Data/test_images/Shepherds Purse/WP_2015061...  \n",
       "95  ../Data/test_images/Shepherds Purse/IMG_1336_2...  \n",
       "\n",
       "[96 rows x 3 columns]"
      ]
     },
     "execution_count": 19,
     "metadata": {},
     "output_type": "execute_result"
    }
   ],
   "source": [
    "df_test"
   ]
  },
  {
   "cell_type": "code",
   "execution_count": 16,
   "id": "upset-marijuana",
   "metadata": {},
   "outputs": [
    {
     "data": {
      "text/plain": [
       "Cleavers                     12\n",
       "Fat Hen                      12\n",
       "Common wheat                 12\n",
       "Shepherds Purse              12\n",
       "Scentless Mayweed            12\n",
       "Charlock                     12\n",
       "Common Chickweed             12\n",
       "Small-flowered Cranesbill    12\n",
       "Name: Class, dtype: int64"
      ]
     },
     "execution_count": 16,
     "metadata": {},
     "output_type": "execute_result"
    }
   ],
   "source": [
    "df_test['Class'].value_counts()"
   ]
  },
  {
   "cell_type": "code",
   "execution_count": 17,
   "id": "passing-appreciation",
   "metadata": {},
   "outputs": [
    {
     "data": {
      "text/plain": [
       "['Fat Hen',\n",
       " 'Charlock',\n",
       " 'Common wheat',\n",
       " 'Common Chickweed',\n",
       " 'Small-flowered Cranesbill',\n",
       " 'Scentless Mayweed',\n",
       " 'Cleavers',\n",
       " 'Shepherds Purse']"
      ]
     },
     "execution_count": 17,
     "metadata": {},
     "output_type": "execute_result"
    }
   ],
   "source": [
    "seed_test"
   ]
  },
  {
   "cell_type": "code",
   "execution_count": null,
   "id": "false-manor",
   "metadata": {},
   "outputs": [],
   "source": []
  }
 ],
 "metadata": {
  "kernelspec": {
   "display_name": "Python 3",
   "language": "python",
   "name": "python3"
  },
  "language_info": {
   "codemirror_mode": {
    "name": "ipython",
    "version": 3
   },
   "file_extension": ".py",
   "mimetype": "text/x-python",
   "name": "python",
   "nbconvert_exporter": "python",
   "pygments_lexer": "ipython3",
   "version": "3.8.5"
  }
 },
 "nbformat": 4,
 "nbformat_minor": 5
}
