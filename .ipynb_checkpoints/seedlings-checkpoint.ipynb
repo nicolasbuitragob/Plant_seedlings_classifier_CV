{
 "cells": [
  {
   "cell_type": "code",
   "execution_count": 1,
   "id": "manufactured-pepper",
   "metadata": {},
   "outputs": [],
   "source": [
    "import numpy as np\n",
    "import os\n",
    "import zipfile\n",
    "import tensorflow as tf\n",
    "from tensorflow.keras.layers import Dense, Flatten, Conv2D, MaxPooling2D\n",
    "from tensorflow.keras.models import Sequential\n",
    "import matplotlib.pyplot as plt\n",
    "import pandas as pd"
   ]
  },
  {
   "cell_type": "markdown",
   "id": "ultimate-station",
   "metadata": {},
   "source": [
    "Set up data"
   ]
  },
  {
   "cell_type": "code",
   "execution_count": 2,
   "id": "eight-scholarship",
   "metadata": {},
   "outputs": [],
   "source": [
    "#Set paths to data folder\n",
    "path_data = os.path.join('../','Data')"
   ]
  },
  {
   "cell_type": "code",
   "execution_count": 3,
   "id": "received-spread",
   "metadata": {},
   "outputs": [],
   "source": [
    "#unzip train data\n",
    "def unzip():\n",
    "    with zipfile.ZipFile(os.path.join(path_data,'NonsegmentedV2.zip'),'r') as tr:\n",
    "        tr.extractall(os.path.join(path_data,'train_images'))\n",
    "    with zipfile.ZipFile(os.path.join(path_data,'ImagesFromTheWild.zip'),'r') as te:\n",
    "        te.extractall(os.path.join(path_data,'test_images'))"
   ]
  },
  {
   "cell_type": "code",
   "execution_count": 5,
   "id": "better-accommodation",
   "metadata": {},
   "outputs": [],
   "source": [
    "unzip()"
   ]
  },
  {
   "cell_type": "code",
   "execution_count": 4,
   "id": "pregnant-proposal",
   "metadata": {},
   "outputs": [],
   "source": [
    "train_path = os.path.join(path_data,'train_images')\n",
    "test_path = os.path.join(path_data,'test_images')"
   ]
  },
  {
   "cell_type": "code",
   "execution_count": null,
   "id": "considerable-wound",
   "metadata": {},
   "outputs": [],
   "source": []
  },
  {
   "cell_type": "markdown",
   "id": "crude-factor",
   "metadata": {},
   "source": [
    "Now the images are stored in the 'train_images' and 'test_images' directories\n",
    "\n",
    "Now let's see some examples.\n",
    "\n",
    "The images are organized in subfolders per class. So lets choose 3 per class randomly and plot it. Remember we have 12 clases"
   ]
  },
  {
   "cell_type": "code",
   "execution_count": null,
   "id": "pediatric-minnesota",
   "metadata": {},
   "outputs": [],
   "source": [
    "\n",
    "        "
   ]
  },
  {
   "cell_type": "code",
   "execution_count": null,
   "id": "fallen-internet",
   "metadata": {},
   "outputs": [],
   "source": [
    "\n"
   ]
  },
  {
   "cell_type": "code",
   "execution_count": null,
   "id": "twelve-weekly",
   "metadata": {},
   "outputs": [],
   "source": []
  },
  {
   "cell_type": "code",
   "execution_count": null,
   "id": "electoral-worry",
   "metadata": {},
   "outputs": [],
   "source": []
  }
 ],
 "metadata": {
  "kernelspec": {
   "display_name": "Python 3",
   "language": "python",
   "name": "python3"
  },
  "language_info": {
   "codemirror_mode": {
    "name": "ipython",
    "version": 3
   },
   "file_extension": ".py",
   "mimetype": "text/x-python",
   "name": "python",
   "nbconvert_exporter": "python",
   "pygments_lexer": "ipython3",
   "version": "3.8.5"
  }
 },
 "nbformat": 4,
 "nbformat_minor": 5
}
