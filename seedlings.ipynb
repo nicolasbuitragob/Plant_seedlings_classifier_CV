{
 "cells": [
  {
   "cell_type": "code",
   "execution_count": 12,
   "id": "cutting-dynamics",
   "metadata": {},
   "outputs": [],
   "source": [
    "import numpy as pd\n",
    "import os\n",
    "import zipfile\n",
    "import tensorflow as tf\n",
    "from tensorflow.keras.layers import Dense, Flatten, Conv2D, MaxPooling2D\n",
    "from tensorflow.keras.models import Sequential"
   ]
  },
  {
   "cell_type": "markdown",
   "id": "written-exhaust",
   "metadata": {},
   "source": [
    "Set up data"
   ]
  },
  {
   "cell_type": "code",
   "execution_count": 31,
   "id": "acquired-excuse",
   "metadata": {},
   "outputs": [],
   "source": [
    "#Set paths to folders\n",
    "path_data = os.path.join('../','Data')\n",
    "path_train = os.path.join(path_data,'NonsegmentedV2.zip')\n",
    "path_test = os.path.join(path_data,'ImagesFromTheWild.zip')"
   ]
  },
  {
   "cell_type": "code",
   "execution_count": 32,
   "id": "intermediate-hormone",
   "metadata": {},
   "outputs": [],
   "source": [
    "#unzip train data\n",
    "def unzip():\n",
    "    with zipfile.ZipFile(path_train,'r') as tr:\n",
    "        tr.extractall(os.path.join(path_data,'train_images'))\n",
    "    with zipfile.ZipFile(path_test,'r') as te:\n",
    "        te.extractall(os.path.join(path_data,'test_images'))"
   ]
  },
  {
   "cell_type": "code",
   "execution_count": 33,
   "id": "baking-thunder",
   "metadata": {},
   "outputs": [],
   "source": [
    "unzip()"
   ]
  },
  {
   "cell_type": "code",
   "execution_count": 30,
   "id": "under-envelope",
   "metadata": {},
   "outputs": [
    {
     "data": {
      "text/plain": [
       "'../Data/test_images'"
      ]
     },
     "execution_count": 30,
     "metadata": {},
     "output_type": "execute_result"
    }
   ],
   "source": []
  },
  {
   "cell_type": "code",
   "execution_count": null,
   "id": "mineral-domain",
   "metadata": {},
   "outputs": [],
   "source": []
  }
 ],
 "metadata": {
  "kernelspec": {
   "display_name": "Python 3",
   "language": "python",
   "name": "python3"
  },
  "language_info": {
   "codemirror_mode": {
    "name": "ipython",
    "version": 3
   },
   "file_extension": ".py",
   "mimetype": "text/x-python",
   "name": "python",
   "nbconvert_exporter": "python",
   "pygments_lexer": "ipython3",
   "version": "3.8.5"
  }
 },
 "nbformat": 4,
 "nbformat_minor": 5
}
