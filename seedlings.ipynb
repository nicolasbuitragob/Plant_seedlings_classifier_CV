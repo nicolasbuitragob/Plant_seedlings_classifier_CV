{
 "cells": [
  {
   "cell_type": "code",
   "execution_count": 105,
   "id": "incorporated-color",
   "metadata": {},
   "outputs": [],
   "source": [
    "import numpy as np\n",
    "import os\n",
    "import zipfile\n",
    "import tensorflow as tf\n",
    "from tensorflow.keras.layers import Dense, Flatten, Conv2D, MaxPooling2D\n",
    "from tensorflow.keras.models import Sequential\n",
    "import matplotlib.pyplot as plt\n",
    "import pandas as pd\n",
    "import seaborn as sns"
   ]
  },
  {
   "cell_type": "markdown",
   "id": "creative-enterprise",
   "metadata": {},
   "source": [
    "Set up data"
   ]
  },
  {
   "cell_type": "code",
   "execution_count": 106,
   "id": "boring-rubber",
   "metadata": {},
   "outputs": [],
   "source": [
    "#Set paths to data folder\n",
    "path_data = os.path.join('../','Data')"
   ]
  },
  {
   "cell_type": "code",
   "execution_count": 107,
   "id": "rising-lotus",
   "metadata": {},
   "outputs": [],
   "source": [
    "#unzip train data\n",
    "def unzip():\n",
    "    with zipfile.ZipFile(os.path.join(path_data,'NonsegmentedV2.zip'),'r') as tr:\n",
    "        tr.extractall(os.path.join(path_data,'train_images'))\n",
    "    with zipfile.ZipFile(os.path.join(path_data,'ImagesFromTheWild.zip'),'r') as te:\n",
    "        te.extractall(os.path.join(path_data,'test_images'))"
   ]
  },
  {
   "cell_type": "code",
   "execution_count": 5,
   "id": "joint-victoria",
   "metadata": {},
   "outputs": [],
   "source": [
    "unzip()"
   ]
  },
  {
   "cell_type": "code",
   "execution_count": 108,
   "id": "worthy-maximum",
   "metadata": {},
   "outputs": [],
   "source": [
    "train_path = os.path.join(path_data,'train_images')\n",
    "test_path = os.path.join(path_data,'test_images')"
   ]
  },
  {
   "cell_type": "code",
   "execution_count": null,
   "id": "important-satin",
   "metadata": {},
   "outputs": [],
   "source": []
  },
  {
   "cell_type": "markdown",
   "id": "requested-raising",
   "metadata": {},
   "source": [
    "Now the images are stored in the 'train_images' and 'test_images' directories\n",
    "\n",
    "\n",
    "The images are organized in subfolders per class. Let's organize the images in a single dataframe to do some EDA"
   ]
  },
  {
   "cell_type": "code",
   "execution_count": 109,
   "id": "environmental-illustration",
   "metadata": {},
   "outputs": [],
   "source": [
    "data = []\n",
    "for folder in os.listdir(train_path):\n",
    "    folder_path = os.path.join(train_path,folder)\n",
    "    for image in os.listdir(folder_path):\n",
    "        img_path = os.path.join(folder_path,image)\n",
    "        data.append([image,folder,img_path])"
   ]
  },
  {
   "cell_type": "code",
   "execution_count": 110,
   "id": "acoustic-hostel",
   "metadata": {},
   "outputs": [],
   "source": [
    "df = pd.DataFrame(data,columns = ['Image','Class','image path'])"
   ]
  },
  {
   "cell_type": "code",
   "execution_count": 188,
   "id": "impressive-barrel",
   "metadata": {},
   "outputs": [
    {
     "data": {
      "image/png": "[encoded data removed]",
      "text/plain": [
       "<Figure size 720x360 with 1 Axes>"
      ]
     },
     "metadata": {
      "needs_background": "light"
     },
     "output_type": "display_data"
    }
   ],
   "source": [
    "counts = df['Class'].value_counts()\n",
    "plt.figure(figsize=(10,5))\n",
    "counts.plot.bar(colormap = 'summer')\n",
    "plt.show()"
   ]
  },
  {
   "cell_type": "markdown",
   "id": "mighty-robin",
   "metadata": {},
   "source": [
    "Looks like we have a problem with an imbalanced dataset. Keep that in mind.\n",
    "\n",
    "Now let's see some examples"
   ]
  },
  {
   "cell_type": "code",
   "execution_count": null,
   "id": "burning-share",
   "metadata": {},
   "outputs": [],
   "source": []
  },
  {
   "cell_type": "code",
   "execution_count": null,
   "id": "asian-disposition",
   "metadata": {},
   "outputs": [],
   "source": []
  },
  {
   "cell_type": "code",
   "execution_count": null,
   "id": "painted-dividend",
   "metadata": {},
   "outputs": [],
   "source": []
  }
 ],
 "metadata": {
  "kernelspec": {
   "display_name": "Python 3",
   "language": "python",
   "name": "python3"
  },
  "language_info": {
   "codemirror_mode": {
    "name": "ipython",
    "version": 3
   },
   "file_extension": ".py",
   "mimetype": "text/x-python",
   "name": "python",
   "nbconvert_exporter": "python",
   "pygments_lexer": "ipython3",
   "version": "3.8.5"
  }
 },
 "nbformat": 4,
 "nbformat_minor": 5
}
