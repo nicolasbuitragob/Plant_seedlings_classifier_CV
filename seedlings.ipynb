{
 "cells": [
  {
   "cell_type": "code",
   "execution_count": 1,
   "id": "running-sperm",
   "metadata": {},
   "outputs": [],
   "source": [
    "import numpy as np\n",
    "import os\n",
    "import zipfile\n",
    "import tensorflow as tf\n",
    "from tensorflow.keras.layers import Dense, Flatten, Conv2D, MaxPooling2D\n",
    "from tensorflow.keras.models import Sequential\n",
    "import matplotlib.pyplot as plt\n",
    "import pandas as pd"
   ]
  },
  {
   "cell_type": "markdown",
   "id": "chronic-desire",
   "metadata": {},
   "source": [
    "Set up data"
   ]
  },
  {
   "cell_type": "code",
   "execution_count": 2,
   "id": "informal-madrid",
   "metadata": {},
   "outputs": [],
   "source": [
    "#Set paths to data folder\n",
    "path_data = os.path.join('../','Data')"
   ]
  },
  {
   "cell_type": "code",
   "execution_count": 3,
   "id": "adopted-guarantee",
   "metadata": {},
   "outputs": [],
   "source": [
    "#unzip train data\n",
    "def unzip():\n",
    "    with zipfile.ZipFile(os.path.join(path_data,'NonsegmentedV2.zip'),'r') as tr:\n",
    "        tr.extractall(os.path.join(path_data,'train_images'))\n",
    "    with zipfile.ZipFile(os.path.join(path_data,'ImagesFromTheWild.zip'),'r') as te:\n",
    "        te.extractall(os.path.join(path_data,'test_images'))"
   ]
  },
  {
   "cell_type": "code",
   "execution_count": 5,
   "id": "loose-turning",
   "metadata": {},
   "outputs": [],
   "source": [
    "unzip()"
   ]
  },
  {
   "cell_type": "code",
   "execution_count": 4,
   "id": "organized-brunswick",
   "metadata": {},
   "outputs": [],
   "source": [
    "train_path = os.path.join(path_data,'train_images')\n",
    "test_path = os.path.join(path_data,'test_images')"
   ]
  },
  {
   "cell_type": "code",
   "execution_count": null,
   "id": "pointed-gravity",
   "metadata": {},
   "outputs": [],
   "source": []
  },
  {
   "cell_type": "markdown",
   "id": "detected-terminal",
   "metadata": {},
   "source": [
    "Now the images are stored in the 'train_images' and 'test_images' directories\n",
    "\n",
    "\n",
    "The images are organized in subfolders per class. Let's organize the images in a single dataframe to do some EDA"
   ]
  },
  {
   "cell_type": "code",
   "execution_count": 82,
   "id": "stuffed-desperate",
   "metadata": {},
   "outputs": [],
   "source": [
    "data = []\n",
    "for folder in os.listdir(train_path):\n",
    "    folder_path = os.path.join(train_path,folder)\n",
    "    for image in os.listdir(folder_path):\n",
    "        img_path = os.path.join(folder_path,image)\n",
    "        data.append([image,folder,img_path])"
   ]
  },
  {
   "cell_type": "code",
   "execution_count": 83,
   "id": "nonprofit-entrance",
   "metadata": {},
   "outputs": [],
   "source": [
    "df = pd.DataFrame(data,columns = ['Image','Class','image path'])"
   ]
  },
  {
   "cell_type": "code",
   "execution_count": 84,
   "id": "rocky-tobacco",
   "metadata": {},
   "outputs": [
    {
     "data": {
      "text/html": [
       "<div>\n",
       "<style scoped>\n",
       "    .dataframe tbody tr th:only-of-type {\n",
       "        vertical-align: middle;\n",
       "    }\n",
       "\n",
       "    .dataframe tbody tr th {\n",
       "        vertical-align: top;\n",
       "    }\n",
       "\n",
       "    .dataframe thead th {\n",
       "        text-align: right;\n",
       "    }\n",
       "</style>\n",
       "<table border=\"1\" class=\"dataframe\">\n",
       "  <thead>\n",
       "    <tr style=\"text-align: right;\">\n",
       "      <th></th>\n",
       "      <th>Image</th>\n",
       "      <th>Class</th>\n",
       "      <th>image path</th>\n",
       "    </tr>\n",
       "  </thead>\n",
       "  <tbody>\n",
       "    <tr>\n",
       "      <th>0</th>\n",
       "      <td>78.png</td>\n",
       "      <td>Fat Hen</td>\n",
       "      <td>../Data/train_images/Fat Hen/78.png</td>\n",
       "    </tr>\n",
       "    <tr>\n",
       "      <th>1</th>\n",
       "      <td>447.png</td>\n",
       "      <td>Fat Hen</td>\n",
       "      <td>../Data/train_images/Fat Hen/447.png</td>\n",
       "    </tr>\n",
       "    <tr>\n",
       "      <th>2</th>\n",
       "      <td>166.png</td>\n",
       "      <td>Fat Hen</td>\n",
       "      <td>../Data/train_images/Fat Hen/166.png</td>\n",
       "    </tr>\n",
       "    <tr>\n",
       "      <th>3</th>\n",
       "      <td>359.png</td>\n",
       "      <td>Fat Hen</td>\n",
       "      <td>../Data/train_images/Fat Hen/359.png</td>\n",
       "    </tr>\n",
       "    <tr>\n",
       "      <th>4</th>\n",
       "      <td>152.png</td>\n",
       "      <td>Fat Hen</td>\n",
       "      <td>../Data/train_images/Fat Hen/152.png</td>\n",
       "    </tr>\n",
       "    <tr>\n",
       "      <th>...</th>\n",
       "      <td>...</td>\n",
       "      <td>...</td>\n",
       "      <td>...</td>\n",
       "    </tr>\n",
       "    <tr>\n",
       "      <th>5534</th>\n",
       "      <td>194.png</td>\n",
       "      <td>Cleavers</td>\n",
       "      <td>../Data/train_images/Cleavers/194.png</td>\n",
       "    </tr>\n",
       "    <tr>\n",
       "      <th>5535</th>\n",
       "      <td>326.png</td>\n",
       "      <td>Cleavers</td>\n",
       "      <td>../Data/train_images/Cleavers/326.png</td>\n",
       "    </tr>\n",
       "    <tr>\n",
       "      <th>5536</th>\n",
       "      <td>160.png</td>\n",
       "      <td>Cleavers</td>\n",
       "      <td>../Data/train_images/Cleavers/160.png</td>\n",
       "    </tr>\n",
       "    <tr>\n",
       "      <th>5537</th>\n",
       "      <td>250.png</td>\n",
       "      <td>Cleavers</td>\n",
       "      <td>../Data/train_images/Cleavers/250.png</td>\n",
       "    </tr>\n",
       "    <tr>\n",
       "      <th>5538</th>\n",
       "      <td>332.png</td>\n",
       "      <td>Cleavers</td>\n",
       "      <td>../Data/train_images/Cleavers/332.png</td>\n",
       "    </tr>\n",
       "  </tbody>\n",
       "</table>\n",
       "<p>5539 rows × 3 columns</p>\n",
       "</div>"
      ],
      "text/plain": [
       "        Image     Class                             image path\n",
       "0      78.png   Fat Hen    ../Data/train_images/Fat Hen/78.png\n",
       "1     447.png   Fat Hen   ../Data/train_images/Fat Hen/447.png\n",
       "2     166.png   Fat Hen   ../Data/train_images/Fat Hen/166.png\n",
       "3     359.png   Fat Hen   ../Data/train_images/Fat Hen/359.png\n",
       "4     152.png   Fat Hen   ../Data/train_images/Fat Hen/152.png\n",
       "...       ...       ...                                    ...\n",
       "5534  194.png  Cleavers  ../Data/train_images/Cleavers/194.png\n",
       "5535  326.png  Cleavers  ../Data/train_images/Cleavers/326.png\n",
       "5536  160.png  Cleavers  ../Data/train_images/Cleavers/160.png\n",
       "5537  250.png  Cleavers  ../Data/train_images/Cleavers/250.png\n",
       "5538  332.png  Cleavers  ../Data/train_images/Cleavers/332.png\n",
       "\n",
       "[5539 rows x 3 columns]"
      ]
     },
     "execution_count": 84,
     "metadata": {},
     "output_type": "execute_result"
    }
   ],
   "source": [
    "plt."
   ]
  },
  {
   "cell_type": "code",
   "execution_count": null,
   "id": "handed-surfing",
   "metadata": {},
   "outputs": [],
   "source": []
  }
 ],
 "metadata": {
  "kernelspec": {
   "display_name": "Python 3",
   "language": "python",
   "name": "python3"
  },
  "language_info": {
   "codemirror_mode": {
    "name": "ipython",
    "version": 3
   },
   "file_extension": ".py",
   "mimetype": "text/x-python",
   "name": "python",
   "nbconvert_exporter": "python",
   "pygments_lexer": "ipython3",
   "version": "3.8.5"
  }
 },
 "nbformat": 4,
 "nbformat_minor": 5
}
